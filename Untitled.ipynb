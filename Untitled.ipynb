{
 "cells": [
  {
   "cell_type": "code",
   "execution_count": 1,
   "id": "add71832-22ef-4cf3-be50-77d373876a75",
   "metadata": {},
   "outputs": [],
   "source": [
    "import tensorflow as tf"
   ]
  },
  {
   "cell_type": "code",
   "execution_count": 33,
   "id": "04db8f78-6f42-4aaf-8286-0c97065cb70b",
   "metadata": {},
   "outputs": [],
   "source": [
    "v1 = tf.Variable([[0, 1, 2], [3, 4, 5], [6, 7, 8],[1,1,1]], dtype=tf.float32)\n",
    "v2 = tf.Variable([0, 1, 2], dtype = tf.float32)"
   ]
  },
  {
   "cell_type": "code",
   "execution_count": 21,
   "id": "e614e0c9-f88e-44d1-9e04-184b59a0c66b",
   "metadata": {},
   "outputs": [
    {
     "data": {
      "text/plain": [
       "<tf.Variable 'Variable:0' shape=(4, 3) dtype=float16, numpy=\n",
       "array([[0., 1., 2.],\n",
       "       [3., 4., 5.],\n",
       "       [6., 7., 8.],\n",
       "       [1., 1., 1.]], dtype=float16)>"
      ]
     },
     "execution_count": 21,
     "metadata": {},
     "output_type": "execute_result"
    }
   ],
   "source": [
    "v1"
   ]
  },
  {
   "cell_type": "code",
   "execution_count": 22,
   "id": "ac0d54cc-ea11-49a4-ad87-a97d7b4f3cbc",
   "metadata": {},
   "outputs": [],
   "source": [
    "v1 = tf.expand_dims(v1, axis=-1)\n",
    "v2 = tf.expand_dims(v2, axis=0)"
   ]
  },
  {
   "cell_type": "code",
   "execution_count": 23,
   "id": "aced3eaa-b546-4b9d-9445-7e59cf740d69",
   "metadata": {},
   "outputs": [
    {
     "data": {
      "text/plain": [
       "<tf.Tensor: shape=(4, 3, 3), dtype=float16, numpy=\n",
       "array([[[ 0., -1., -2.],\n",
       "        [ 1.,  0., -1.],\n",
       "        [ 2.,  1.,  0.]],\n",
       "\n",
       "       [[ 3.,  2.,  1.],\n",
       "        [ 4.,  3.,  2.],\n",
       "        [ 5.,  4.,  3.]],\n",
       "\n",
       "       [[ 6.,  5.,  4.],\n",
       "        [ 7.,  6.,  5.],\n",
       "        [ 8.,  7.,  6.]],\n",
       "\n",
       "       [[ 1.,  0., -1.],\n",
       "        [ 1.,  0., -1.],\n",
       "        [ 1.,  0., -1.]]], dtype=float16)>"
      ]
     },
     "execution_count": 23,
     "metadata": {},
     "output_type": "execute_result"
    }
   ],
   "source": [
    "v1-v2"
   ]
  },
  {
   "cell_type": "code",
   "execution_count": 24,
   "id": "964c1ef4-fd86-447e-bafd-0dc2eac4f802",
   "metadata": {},
   "outputs": [],
   "source": [
    "def gaussian_blur(input_tensor: tf.Tensor, blur_tensor: tf.Tensor, deviation: float = 0.1) -> tf.Tensor:\n",
    "    \"\"\"\n",
    "    blur input tensor by gaussian function\n",
    "    output size: (input_tensor, blur_tensor)\n",
    "    \"\"\"\n",
    "    # if input_tensor.dtype is\n",
    "    input_tensor = tf.expand_dims(input_tensor, -1)\n",
    "    blur_tensor = tf.expand_dims(blur_tensor, 0)\n",
    "\n",
    "    gamma = -0.5 / c\n",
    "\n",
    "    return tf.exp(gamma * tf.square(input_tensor - blur_tensor))"
   ]
  },
  {
   "cell_type": "code",
   "execution_count": 34,
   "id": "84962ae6-245a-4e89-813d-2649380a282c",
   "metadata": {},
   "outputs": [
    {
     "data": {
      "text/plain": [
       "<tf.Tensor: shape=(4, 3, 3), dtype=float32, numpy=\n",
       "array([[[1.0000000e+00, 1.9287621e-22, 0.0000000e+00],\n",
       "        [1.9287621e-22, 1.0000000e+00, 1.9287621e-22],\n",
       "        [0.0000000e+00, 1.9287621e-22, 1.0000000e+00]],\n",
       "\n",
       "       [[0.0000000e+00, 0.0000000e+00, 1.9287621e-22],\n",
       "        [0.0000000e+00, 0.0000000e+00, 0.0000000e+00],\n",
       "        [0.0000000e+00, 0.0000000e+00, 0.0000000e+00]],\n",
       "\n",
       "       [[0.0000000e+00, 0.0000000e+00, 0.0000000e+00],\n",
       "        [0.0000000e+00, 0.0000000e+00, 0.0000000e+00],\n",
       "        [0.0000000e+00, 0.0000000e+00, 0.0000000e+00]],\n",
       "\n",
       "       [[1.9287621e-22, 1.0000000e+00, 1.9287621e-22],\n",
       "        [1.9287621e-22, 1.0000000e+00, 1.9287621e-22],\n",
       "        [1.9287621e-22, 1.0000000e+00, 1.9287621e-22]]], dtype=float32)>"
      ]
     },
     "execution_count": 34,
     "metadata": {},
     "output_type": "execute_result"
    }
   ],
   "source": [
    "gaussian_blur(v1,v2)"
   ]
  },
  {
   "cell_type": "code",
   "execution_count": 32,
   "id": "9cff720a-1158-4d30-abd7-b7978da74d26",
   "metadata": {},
   "outputs": [
    {
     "data": {
      "text/plain": [
       "<tf.Tensor: shape=(), dtype=float32, numpy=0.010000001>"
      ]
     },
     "execution_count": 32,
     "metadata": {},
     "output_type": "execute_result"
    }
   ],
   "source": [
    "tf.square(0.1)"
   ]
  },
  {
   "cell_type": "code",
   "execution_count": null,
   "id": "79767b81-740f-4fb8-9d7e-f2a96a6b6501",
   "metadata": {},
   "outputs": [],
   "source": []
  }
 ],
 "metadata": {
  "kernelspec": {
   "display_name": "Python 3 (ipykernel)",
   "language": "python",
   "name": "python3"
  },
  "language_info": {
   "codemirror_mode": {
    "name": "ipython",
    "version": 3
   },
   "file_extension": ".py",
   "mimetype": "text/x-python",
   "name": "python",
   "nbconvert_exporter": "python",
   "pygments_lexer": "ipython3",
   "version": "3.9.15"
  }
 },
 "nbformat": 4,
 "nbformat_minor": 5
}
