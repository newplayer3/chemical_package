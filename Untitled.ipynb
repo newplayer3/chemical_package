{
 "cells": [
  {
   "cell_type": "code",
   "execution_count": 1,
   "id": "add71832-22ef-4cf3-be50-77d373876a75",
   "metadata": {},
   "outputs": [],
   "source": [
    "import tensorflow as tf"
   ]
  },
  {
   "cell_type": "code",
   "execution_count": 22,
   "id": "04db8f78-6f42-4aaf-8286-0c97065cb70b",
   "metadata": {},
   "outputs": [],
   "source": [
    "v = tf.Variable([[0,1,2],[3,4,5],[6,7,8]],dtype=tf.float16)"
   ]
  },
  {
   "cell_type": "code",
   "execution_count": 23,
   "id": "ac0d54cc-ea11-49a4-ad87-a97d7b4f3cbc",
   "metadata": {},
   "outputs": [
    {
     "data": {
      "text/plain": [
       "2"
      ]
     },
     "execution_count": 23,
     "metadata": {},
     "output_type": "execute_result"
    }
   ],
   "source": [
    "len(v.shape)"
   ]
  },
  {
   "cell_type": "code",
   "execution_count": 24,
   "id": "e5293098-77b9-48c0-aa6d-15ebfdf4bdae",
   "metadata": {},
   "outputs": [],
   "source": [
    "v1 = tf.expand_dims(v, -3)\n",
    "v2 = tf.expand_dims(v, -2)"
   ]
  },
  {
   "cell_type": "code",
   "execution_count": 25,
   "id": "5a28356e-68eb-468a-8fa8-7d06e377d81c",
   "metadata": {},
   "outputs": [
    {
     "data": {
      "text/plain": [
       "<tf.Tensor: shape=(), dtype=float16, numpy=18.0>"
      ]
     },
     "execution_count": 25,
     "metadata": {},
     "output_type": "execute_result"
    }
   ],
   "source": [
    "tf.sqrt(tf.reduce_sum(tf.square(v1-v2)))"
   ]
  },
  {
   "cell_type": "code",
   "execution_count": null,
   "id": "aced3eaa-b546-4b9d-9445-7e59cf740d69",
   "metadata": {},
   "outputs": [],
   "source": []
  }
 ],
 "metadata": {
  "kernelspec": {
   "display_name": "Python 3 (ipykernel)",
   "language": "python",
   "name": "python3"
  },
  "language_info": {
   "codemirror_mode": {
    "name": "ipython",
    "version": 3
   },
   "file_extension": ".py",
   "mimetype": "text/x-python",
   "name": "python",
   "nbconvert_exporter": "python",
   "pygments_lexer": "ipython3",
   "version": "3.9.15"
  }
 },
 "nbformat": 4,
 "nbformat_minor": 5
}
